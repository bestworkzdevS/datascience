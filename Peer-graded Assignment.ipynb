{
 "cells": [
  {
   "cell_type": "markdown",
   "id": "c761681a-521a-47ee-8c71-bfcf2a151d3b",
   "metadata": {},
   "source": [
    "# My Jupyter Notebook on IBM Watson Studio"
   ]
  },
  {
   "cell_type": "markdown",
   "id": "ef2a1335-3463-4fa9-9717-58bed3378099",
   "metadata": {},
   "source": [
    "**Ian Rex Espinosa**\n",
    "\n",
    "Data Scientist"
   ]
  },
  {
   "cell_type": "markdown",
   "id": "7d0bbf4a-ee65-4892-82c5-e1aafbefe69c",
   "metadata": {},
   "source": [
    "*I am interested in Data Science because there's a lot more to data than an average person can see, we can do a lot of things to the available data and create insights from it. Asides from it, we can also tell a good story out of the extracted data or present a visualization out from it*"
   ]
  },
  {
   "cell_type": "markdown",
   "id": "e8ac45ce-629c-417a-8b79-793252109473",
   "metadata": {},
   "source": [
    "### Code below displays a static greeting of whoever value is in the name variable"
   ]
  },
  {
   "cell_type": "code",
   "execution_count": 2,
   "id": "c4e0240f-cf0a-4393-8a01-1b0308a5e97f",
   "metadata": {},
   "outputs": [
    {
     "name": "stdout",
     "output_type": "stream",
     "text": [
      "Hi Rex\n"
     ]
    }
   ],
   "source": [
    "name = \"Rex\"\n",
    "greetings = \"Hi \"\n",
    "\n",
    "print(greetings + name)"
   ]
  },
  {
   "cell_type": "markdown",
   "id": "ba8f0f1d-d7aa-43f7-bce8-f3f6d1db39f6",
   "metadata": {},
   "source": [
    ">This should be a blockqoute using a markdown\n",
    "\n",
    "[This links to google](https://google.com)\n",
    "\n",
    "* Bullet point 1\n",
    "* Bullet point 2\n",
    "* Bullet point"
   ]
  },
  {
   "cell_type": "code",
   "execution_count": null,
   "id": "4ae32f3c-92ec-4d0e-84e6-55f9fdfe7835",
   "metadata": {},
   "outputs": [],
   "source": []
  }
 ],
 "metadata": {
  "kernelspec": {
   "display_name": "Python",
   "language": "python",
   "name": "conda-env-python-py"
  },
  "language_info": {
   "codemirror_mode": {
    "name": "ipython",
    "version": 3
   },
   "file_extension": ".py",
   "mimetype": "text/x-python",
   "name": "python",
   "nbconvert_exporter": "python",
   "pygments_lexer": "ipython3",
   "version": "3.7.12"
  }
 },
 "nbformat": 4,
 "nbformat_minor": 5
}
